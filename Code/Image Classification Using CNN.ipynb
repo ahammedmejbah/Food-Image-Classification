{
 "cells": [
  {
   "cell_type": "markdown",
   "id": "f9bce578-2f73-45ff-8911-083b19a90e06",
   "metadata": {},
   "source": [
    "* !pip install tkinter\n",
    "* pip install pillow/PIL\n",
    "* !pip install requests\n",
    "* !pip install io"
   ]
  },
  {
   "cell_type": "code",
   "execution_count": 1,
   "id": "ee958a5f-8d28-47fb-b190-996b997ffef4",
   "metadata": {},
   "outputs": [],
   "source": [
    "import os\n",
    "import numpy as np\n",
    "from PIL import Image, ImageTk\n",
    "from io import BytesIO\n",
    "\n",
    "import requests\n",
    "from tkinter import Tk, Label, Canvas, Entry, Button, NW\n",
    "\n",
    "from keras.models import Sequential,load_model\n",
    "from keras.layers import Conv2D, MaxPooling2D, Flatten, Dense\n",
    "from keras.preprocessing.image import ImageDataGenerator, load_img, img_to_array\n",
    "from keras.preprocessing import image as image_utils\n"
   ]
  },
  {
   "cell_type": "code",
   "execution_count": 2,
   "id": "d0ca8ecd-604f-478d-8a2b-a968e3ab4c81",
   "metadata": {},
   "outputs": [],
   "source": [
    "model = Sequential()\n",
    "\n",
    "\n",
    "model.add(Conv2D(32, (3, 3), input_shape = (128, 128, 3), activation = \"relu\"))\n",
    "model.add(MaxPooling2D(pool_size = (2, 2)))\n",
    "\n",
    "model.add(Conv2D(64, (3, 3), activation = \"relu\"))\n",
    "model.add(MaxPooling2D(pool_size = (2, 2)))\n",
    "\n",
    "model.add(Conv2D(128, (3, 3), activation = \"relu\"))\n",
    "model.add(MaxPooling2D(pool_size = (2, 2)))\n",
    "\n",
    "model.add(Flatten())\n",
    "\n",
    "model.add(Dense(128, activation=\"relu\"))\n",
    "model.add(Dense(3, activation=\"softmax\"))"
   ]
  },
  {
   "cell_type": "code",
   "execution_count": 3,
   "id": "7e91a067-7538-44b6-8fa9-92730cbdcee6",
   "metadata": {},
   "outputs": [],
   "source": [
    "model.compile(optimizer=\"adam\",\n",
    "             loss = \"categorical_crossentropy\",\n",
    "             metrics = [\"accuracy\"])"
   ]
  },
  {
   "cell_type": "code",
   "execution_count": 4,
   "id": "47026ba5-6da6-45f0-a176-d5f183083c8a",
   "metadata": {},
   "outputs": [],
   "source": [
    "train_datagen = ImageDataGenerator(rescale = 1.0/255,\n",
    "                                  shear_range = 0.2,\n",
    "                                  zoom_range = 0.2,\n",
    "                                  horizontal_flip= True)"
   ]
  },
  {
   "cell_type": "code",
   "execution_count": 5,
   "id": "82f45076-617f-490c-acfe-18223b0ca46c",
   "metadata": {},
   "outputs": [],
   "source": [
    "test_datagen = ImageDataGenerator(rescale = 1.0/255)"
   ]
  },
  {
   "cell_type": "code",
   "execution_count": 6,
   "id": "5ac12c8c-6d20-4092-a827-afd78ad2d605",
   "metadata": {},
   "outputs": [
    {
     "name": "stdout",
     "output_type": "stream",
     "text": [
      "Found 2400 images belonging to 3 classes.\n",
      "Found 600 images belonging to 3 classes.\n"
     ]
    }
   ],
   "source": [
    "training_datasets = train_datagen.flow_from_directory(\"dataset/training_set\", target_size= (128, 128), batch_size = 32, class_mode = \"categorical\")\n",
    "testing_datasets = test_datagen.flow_from_directory(\"dataset/test_set\", target_size=(128, 128), batch_size=32, class_mode=\"categorical\")"
   ]
  },
  {
   "cell_type": "code",
   "execution_count": 7,
   "id": "f14b0f3d-3865-4525-94fd-addc58fad878",
   "metadata": {},
   "outputs": [
    {
     "name": "stdout",
     "output_type": "stream",
     "text": [
      "Epoch 1/3\n",
      "25/25 [==============================] - 6s 148ms/step - loss: 1.1543 - accuracy: 0.3613 - val_loss: 1.0192 - val_accuracy: 0.4598\n",
      "Epoch 2/3\n",
      "25/25 [==============================] - 4s 140ms/step - loss: 1.0627 - accuracy: 0.4250 - val_loss: 1.0394 - val_accuracy: 0.5446\n",
      "Epoch 3/3\n",
      "25/25 [==============================] - 3s 134ms/step - loss: 1.0056 - accuracy: 0.4875 - val_loss: 0.9497 - val_accuracy: 0.5491\n"
     ]
    },
    {
     "data": {
      "text/plain": [
       "<keras.callbacks.History at 0x1d011af2a88>"
      ]
     },
     "execution_count": 7,
     "metadata": {},
     "output_type": "execute_result"
    }
   ],
   "source": [
    "model.fit(training_datasets, steps_per_epoch=800/32, epochs=3, validation_data=testing_datasets,validation_steps =  200/32)"
   ]
  },
  {
   "cell_type": "code",
   "execution_count": 8,
   "id": "37e303a8-0f54-4bcd-a27d-0ce2325a31aa",
   "metadata": {},
   "outputs": [],
   "source": [
    "model.save(\"model/model.h5\")\n",
    "model.save_weights(\"model/model_weights.h5\")"
   ]
  },
  {
   "cell_type": "code",
   "execution_count": 9,
   "id": "75fa9584-0de6-460a-8333-2bb7866d2d8a",
   "metadata": {},
   "outputs": [],
   "source": [
    "image_width, image_height = 128, 128\n",
    "model_path = \"model/model.h5\"\n",
    "model_wight_path = \"model/model_weights.h5\"\n",
    "\n",
    "final_model = load_model(model_path) \n",
    "final_model.load_weights(model_wight_path)"
   ]
  },
  {
   "cell_type": "code",
   "execution_count": 10,
   "id": "80400027-109f-4345-8be2-bca93ca7a7f0",
   "metadata": {},
   "outputs": [],
   "source": [
    "# url = ''\n",
    "# window = Tk()\n",
    "# window.title(\"Image Classification Using CNN\") # plt.title()\n",
    "# window.geometry(\"800x800\")\n",
    "# label = Label(window, text = \"Please Enter your Custom URL\", font = (\"Halvetica\", 16))\n",
    "# label.pack()"
   ]
  },
  {
   "cell_type": "code",
   "execution_count": 11,
   "id": "0d54b367-420b-4ffd-bb39-768e84b95891",
   "metadata": {},
   "outputs": [],
   "source": [
    "url = ''\n",
    "window = Tk()\n",
    "window.title(\"Image Classification Using CNN\") # plt.title()\n",
    "window.geometry(\"800x800\")\n",
    "label = Label(window, text = \"Please Enter your Custom URL\", font = (\"Halvetica\", 16))\n",
    "label.pack()\n",
    "\n",
    "\n",
    "def Enter():\n",
    "    global url\n",
    "    label.configure()\n",
    "    url = (User_input.get())\n",
    "    print(url)\n",
    "    \n",
    "    \n",
    "    \n",
    "    response = requests.get(url)\n",
    "    test_image = Image.open(BytesIO(response.content))\n",
    "    put_image = test_image.resize((400, 400))\n",
    "    test_image = test_image.resize((128, 128))\n",
    "    \n",
    "    \n",
    "    img = ImageTk.PhotoImage(put_image)\n",
    "    pic = Label(image = img)\n",
    "    pic.pack()\n",
    "    \n",
    "    pic.image = img\n",
    "    test_image = image_utils.img_to_array(test_image)\n",
    "    test_image = np.expand_dims(test_image, axis = 0)\n",
    "    \n",
    "    results = model.predict_on_batch(test_image)\n",
    "    \n",
    "    \n",
    "    if results[0][0] == 1:\n",
    "        res = \"Frech Fries\"\n",
    "    elif  results[0][1] == 1:\n",
    "        res = \"Fizza\"\n",
    "    elif results[0][2] == 1:\n",
    "        res = \"Samosa\"\n",
    "        \n",
    "        \n",
    "    output = Label(window, text = \"Predicted Results: \"+ res, font = (\"Halvetica\", 16))\n",
    "    output.pack()"
   ]
  },
  {
   "cell_type": "code",
   "execution_count": 12,
   "id": "6e1e6259-bcaf-44c6-9709-d845c481628f",
   "metadata": {},
   "outputs": [
    {
     "name": "stdout",
     "output_type": "stream",
     "text": [
      "https://en.wikipedia.org/wiki/Pizza#/media/File:Pizza_slice_icon.png\n"
     ]
    },
    {
     "name": "stderr",
     "output_type": "stream",
     "text": [
      "Exception in Tkinter callback\n",
      "Traceback (most recent call last):\n",
      "  File \"C:\\Users\\ahamm\\anaconda3\\envs\\DeepLearning\\lib\\tkinter\\__init__.py\", line 1705, in __call__\n",
      "    return self.func(*args)\n",
      "  File \"C:\\Users\\ahamm\\AppData\\Local\\Temp\\ipykernel_12028\\3953173084.py\", line 18, in Enter\n",
      "    test_image = Image.open(BytesIO(response.content))\n",
      "  File \"C:\\Users\\ahamm\\anaconda3\\envs\\DeepLearning\\lib\\site-packages\\PIL\\Image.py\", line 3009, in open\n",
      "    \"cannot identify image file %r\" % (filename if filename else fp)\n",
      "PIL.UnidentifiedImageError: cannot identify image file <_io.BytesIO object at 0x000001D00AEC59A8>\n"
     ]
    },
    {
     "name": "stdout",
     "output_type": "stream",
     "text": [
      "https://en.wikipedia.org/wiki/File:Eq_it-na_pizza-margherita_sep2005_sml.jpg\n"
     ]
    },
    {
     "name": "stderr",
     "output_type": "stream",
     "text": [
      "Exception in Tkinter callback\n",
      "Traceback (most recent call last):\n",
      "  File \"C:\\Users\\ahamm\\anaconda3\\envs\\DeepLearning\\lib\\tkinter\\__init__.py\", line 1705, in __call__\n",
      "    return self.func(*args)\n",
      "  File \"C:\\Users\\ahamm\\AppData\\Local\\Temp\\ipykernel_12028\\3953173084.py\", line 18, in Enter\n",
      "    test_image = Image.open(BytesIO(response.content))\n",
      "  File \"C:\\Users\\ahamm\\anaconda3\\envs\\DeepLearning\\lib\\site-packages\\PIL\\Image.py\", line 3009, in open\n",
      "    \"cannot identify image file %r\" % (filename if filename else fp)\n",
      "PIL.UnidentifiedImageError: cannot identify image file <_io.BytesIO object at 0x000001D02F8048E8>\n"
     ]
    },
    {
     "name": "stdout",
     "output_type": "stream",
     "text": [
      "https://c.ndtvimg.com/2020-07/ds980vng_pizza_625x300_07_July_20.jpg\n"
     ]
    },
    {
     "ename": "KeyboardInterrupt",
     "evalue": "",
     "output_type": "error",
     "traceback": [
      "\u001b[1;31m---------------------------------------------------------------------------\u001b[0m",
      "\u001b[1;31mKeyboardInterrupt\u001b[0m                         Traceback (most recent call last)",
      "\u001b[1;32m~\\AppData\\Local\\Temp\\ipykernel_12028\\1822427953.py\u001b[0m in \u001b[0;36m<module>\u001b[1;34m\u001b[0m\n\u001b[0;32m      3\u001b[0m \u001b[0mbutton\u001b[0m \u001b[1;33m=\u001b[0m \u001b[0mButton\u001b[0m\u001b[1;33m(\u001b[0m\u001b[0mwindow\u001b[0m\u001b[1;33m,\u001b[0m \u001b[0mtext\u001b[0m \u001b[1;33m=\u001b[0m \u001b[1;34m\"Detect Image\"\u001b[0m\u001b[1;33m,\u001b[0m \u001b[0mfont\u001b[0m \u001b[1;33m=\u001b[0m \u001b[1;33m(\u001b[0m\u001b[1;34m\"Halvetica\"\u001b[0m\u001b[1;33m,\u001b[0m \u001b[1;36m16\u001b[0m\u001b[1;33m)\u001b[0m\u001b[1;33m,\u001b[0m \u001b[0mcommand\u001b[0m \u001b[1;33m=\u001b[0m \u001b[0mEnter\u001b[0m\u001b[1;33m)\u001b[0m\u001b[1;33m\u001b[0m\u001b[1;33m\u001b[0m\u001b[0m\n\u001b[0;32m      4\u001b[0m \u001b[0mbutton\u001b[0m\u001b[1;33m.\u001b[0m\u001b[0mpack\u001b[0m\u001b[1;33m(\u001b[0m\u001b[1;33m)\u001b[0m\u001b[1;33m\u001b[0m\u001b[1;33m\u001b[0m\u001b[0m\n\u001b[1;32m----> 5\u001b[1;33m \u001b[0mwindow\u001b[0m\u001b[1;33m.\u001b[0m\u001b[0mmainloop\u001b[0m\u001b[1;33m(\u001b[0m\u001b[1;33m)\u001b[0m\u001b[1;33m\u001b[0m\u001b[1;33m\u001b[0m\u001b[0m\n\u001b[0m",
      "\u001b[1;32m~\\anaconda3\\envs\\DeepLearning\\lib\\tkinter\\__init__.py\u001b[0m in \u001b[0;36mmainloop\u001b[1;34m(self, n)\u001b[0m\n\u001b[0;32m   1281\u001b[0m     \u001b[1;32mdef\u001b[0m \u001b[0mmainloop\u001b[0m\u001b[1;33m(\u001b[0m\u001b[0mself\u001b[0m\u001b[1;33m,\u001b[0m \u001b[0mn\u001b[0m\u001b[1;33m=\u001b[0m\u001b[1;36m0\u001b[0m\u001b[1;33m)\u001b[0m\u001b[1;33m:\u001b[0m\u001b[1;33m\u001b[0m\u001b[1;33m\u001b[0m\u001b[0m\n\u001b[0;32m   1282\u001b[0m         \u001b[1;34m\"\"\"Call the mainloop of Tk.\"\"\"\u001b[0m\u001b[1;33m\u001b[0m\u001b[1;33m\u001b[0m\u001b[0m\n\u001b[1;32m-> 1283\u001b[1;33m         \u001b[0mself\u001b[0m\u001b[1;33m.\u001b[0m\u001b[0mtk\u001b[0m\u001b[1;33m.\u001b[0m\u001b[0mmainloop\u001b[0m\u001b[1;33m(\u001b[0m\u001b[0mn\u001b[0m\u001b[1;33m)\u001b[0m\u001b[1;33m\u001b[0m\u001b[1;33m\u001b[0m\u001b[0m\n\u001b[0m\u001b[0;32m   1284\u001b[0m     \u001b[1;32mdef\u001b[0m \u001b[0mquit\u001b[0m\u001b[1;33m(\u001b[0m\u001b[0mself\u001b[0m\u001b[1;33m)\u001b[0m\u001b[1;33m:\u001b[0m\u001b[1;33m\u001b[0m\u001b[1;33m\u001b[0m\u001b[0m\n\u001b[0;32m   1285\u001b[0m         \u001b[1;34m\"\"\"Quit the Tcl interpreter. All widgets will be destroyed.\"\"\"\u001b[0m\u001b[1;33m\u001b[0m\u001b[1;33m\u001b[0m\u001b[0m\n",
      "\u001b[1;31mKeyboardInterrupt\u001b[0m: "
     ]
    }
   ],
   "source": [
    "User_input = Entry()\n",
    "User_input.pack()\n",
    "button = Button(window, text = \"Detect Image\", font = (\"Halvetica\", 16), command = Enter)\n",
    "button.pack()\n",
    "window.mainloop()"
   ]
  },
  {
   "cell_type": "code",
   "execution_count": null,
   "id": "a1c50f00-1bda-4c6e-ac96-52aa791f19a7",
   "metadata": {},
   "outputs": [],
   "source": []
  }
 ],
 "metadata": {
  "kernelspec": {
   "display_name": "Python 3 (ipykernel)",
   "language": "python",
   "name": "python3"
  },
  "language_info": {
   "codemirror_mode": {
    "name": "ipython",
    "version": 3
   },
   "file_extension": ".py",
   "mimetype": "text/x-python",
   "name": "python",
   "nbconvert_exporter": "python",
   "pygments_lexer": "ipython3",
   "version": "3.7.11"
  }
 },
 "nbformat": 4,
 "nbformat_minor": 5
}
